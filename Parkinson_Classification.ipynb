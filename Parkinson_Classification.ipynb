{
  "cells": [
    {
      "cell_type": "markdown",
      "metadata": {
        "id": "ECJaDTxe1Wf5"
      },
      "source": [
        "# **Exploratory Data Analysis EDA**"
      ]
    },
    {
      "cell_type": "markdown",
      "metadata": {
        "id": "y6PVOP731mt_"
      },
      "source": [
        "\n",
        "\n",
        "> Necessary imports\n",
        "\n"
      ]
    },
    {
      "cell_type": "code",
      "execution_count": 2,
      "metadata": {
        "id": "Ppn9y-ov06Ec"
      },
      "outputs": [],
      "source": [
        "import pandas as pd\n",
        "import numpy as np\n",
        "import seaborn as sns\n",
        "from xgboost import XGBClassifier\n",
        "from matplotlib import pyplot as plt\n",
        "from sklearn.decomposition import PCA\n",
        "from sklearn.metrics import accuracy_score\n",
        "from sklearn.preprocessing import MinMaxScaler\n",
        "from sklearn.model_selection import train_test_split"
      ]
    },
    {
      "cell_type": "markdown",
      "metadata": {
        "id": "wAggqvTB2CVm"
      },
      "source": [
        "\n",
        "\n",
        "> Loading the dataset as a pandas dataframe \n"
      ]
    },
    {
      "cell_type": "code",
      "execution_count": null,
      "metadata": {
        "colab": {
          "base_uri": "https://localhost:8080/",
          "height": 456
        },
        "id": "c93Skj4R2JnC",
        "outputId": "70c4967b-fc9f-4aa4-8edc-6df9c2a77d84"
      },
      "outputs": [],
      "source": [
        "data = pd.read_csv('parkinsons.data')\n",
        "data.head(10)"
      ]
    },
    {
      "cell_type": "markdown",
      "metadata": {
        "id": "bZCcdyni2V4v"
      },
      "source": [
        "> Checking the columns names and datatypes of the dataset "
      ]
    },
    {
      "cell_type": "code",
      "execution_count": null,
      "metadata": {
        "colab": {
          "base_uri": "https://localhost:8080/"
        },
        "id": "sDHRmRhD2hEc",
        "outputId": "9688d8f7-6976-4bfa-8aa0-1261e613b61a"
      },
      "outputs": [],
      "source": [
        "data.dtypes"
      ]
    },
    {
      "cell_type": "markdown",
      "metadata": {
        "id": "QKKhGIZpB48F"
      },
      "source": [
        "> Dropping name column as it's not necessary "
      ]
    },
    {
      "cell_type": "code",
      "execution_count": null,
      "metadata": {
        "id": "AzHHTxyAB1fH"
      },
      "outputs": [],
      "source": [
        "data = data.drop('name', axis=1)"
      ]
    },
    {
      "cell_type": "markdown",
      "metadata": {
        "id": "FXecr_Ry3Obk"
      },
      "source": [
        "> Checking the basic statistics of each one of the **columns**"
      ]
    },
    {
      "cell_type": "code",
      "execution_count": null,
      "metadata": {
        "colab": {
          "base_uri": "https://localhost:8080/",
          "height": 394
        },
        "id": "fNmOIu733N45",
        "outputId": "c8a7a1bb-1079-427a-905a-391d71af11a3"
      },
      "outputs": [],
      "source": [
        "data.describe()"
      ]
    },
    {
      "cell_type": "markdown",
      "metadata": {
        "id": "BF9KQmmo8Xp_"
      },
      "source": [
        "> Creating a ***Histogram*** for each of the columns"
      ]
    },
    {
      "cell_type": "code",
      "execution_count": null,
      "metadata": {
        "colab": {
          "base_uri": "https://localhost:8080/",
          "height": 1000
        },
        "id": "sALNPkq66r-w",
        "outputId": "2e1eb728-3103-4eaa-8594-ba69e8ed2b8f"
      },
      "outputs": [],
      "source": [
        "fig = plt.figure(figsize = (15,20))\n",
        "ax = fig.gca()\n",
        "data.hist(ax = ax)\n",
        "plt.show()"
      ]
    },
    {
      "cell_type": "markdown",
      "metadata": {
        "id": "fyBr_1jw8_zv"
      },
      "source": [
        "> Checking The skewness of the dataset"
      ]
    },
    {
      "cell_type": "code",
      "execution_count": null,
      "metadata": {
        "colab": {
          "base_uri": "https://localhost:8080/"
        },
        "id": "aheehKZv8ity",
        "outputId": "dddf76ae-6a2c-4655-a80b-71a534f845cc"
      },
      "outputs": [],
      "source": [
        "data.skew()"
      ]
    },
    {
      "cell_type": "markdown",
      "metadata": {
        "id": "DdHJuDHA3EpS"
      },
      "source": [
        "> Checking the correlation between features"
      ]
    },
    {
      "cell_type": "code",
      "execution_count": null,
      "metadata": {
        "colab": {
          "base_uri": "https://localhost:8080/",
          "height": 864
        },
        "id": "KeK2Nre42taT",
        "outputId": "6338a434-ff14-4d4d-a7cf-1da055229158"
      },
      "outputs": [],
      "source": [
        "data.corr()"
      ]
    },
    {
      "cell_type": "markdown",
      "metadata": {
        "id": "bhf6b5K_9WT4"
      },
      "source": [
        ">Till the very moment we can tell that:\n",
        " * A the status is the target and its datatype is *integer*, So as the name (and the values [0 or 1]) tells this is a binary classification task.\n",
        " * The some of the features of the dataset are skewed (either to left-hand or to right-hand).\n",
        " * There are many high correlated features in the datasets.\n",
        "\n",
        "\n",
        "\n"
      ]
    },
    {
      "cell_type": "markdown",
      "metadata": {
        "id": "My06gio4AWi1"
      },
      "source": [
        "> Seperating features and target"
      ]
    },
    {
      "cell_type": "code",
      "execution_count": null,
      "metadata": {
        "id": "hWn9A6c624cF"
      },
      "outputs": [],
      "source": [
        "target  = data['status']\n",
        "features = data.drop(columns=['status'], axis=1)"
      ]
    },
    {
      "cell_type": "code",
      "execution_count": null,
      "metadata": {
        "colab": {
          "base_uri": "https://localhost:8080/",
          "height": 456
        },
        "id": "gEo15q3CAtiW",
        "outputId": "b60c9d56-e81c-4a26-d646-a85753b70225"
      },
      "outputs": [],
      "source": [
        "features.head(10)"
      ]
    },
    {
      "cell_type": "markdown",
      "metadata": {
        "id": "y75b4u74YB7H"
      },
      "source": [
        "> Checking if there exists any null value"
      ]
    },
    {
      "cell_type": "code",
      "execution_count": null,
      "metadata": {
        "colab": {
          "base_uri": "https://localhost:8080/"
        },
        "id": "0--o17X8A3Ol",
        "outputId": "3041f062-72ac-4165-9ff9-5198bc09ae01"
      },
      "outputs": [],
      "source": [
        "features.isnull().sum()"
      ]
    },
    {
      "cell_type": "code",
      "execution_count": null,
      "metadata": {
        "colab": {
          "base_uri": "https://localhost:8080/"
        },
        "id": "QeiWVZJuX_b3",
        "outputId": "5ad31939-0f6c-4492-9224-0d7f1673b401"
      },
      "outputs": [],
      "source": [
        "features.shape"
      ]
    },
    {
      "cell_type": "markdown",
      "metadata": {
        "id": "XEZnlq9TWxZ4"
      },
      "source": [
        "> Scaling the data"
      ]
    },
    {
      "cell_type": "code",
      "execution_count": null,
      "metadata": {
        "id": "z7ToxwMxehPZ"
      },
      "outputs": [],
      "source": [
        "scaler = MinMaxScaler()\n",
        "X=scaler.fit_transform(features)\n",
        "y=target"
      ]
    },
    {
      "cell_type": "markdown",
      "metadata": {
        "id": "PDGotrcNXkc4"
      },
      "source": [
        "> Reducing the high dimensionality"
      ]
    },
    {
      "cell_type": "code",
      "execution_count": null,
      "metadata": {
        "id": "c8jM18__WvHx"
      },
      "outputs": [],
      "source": [
        "pca = PCA(0.9)\n",
        "X = pca.fit_transform(X)"
      ]
    },
    {
      "cell_type": "code",
      "execution_count": null,
      "metadata": {
        "colab": {
          "base_uri": "https://localhost:8080/"
        },
        "id": "BSFsOHZTYAlx",
        "outputId": "ac469829-a3aa-4adf-f80d-6cbe6d8ec709"
      },
      "outputs": [],
      "source": [
        "X.shape"
      ]
    },
    {
      "cell_type": "markdown",
      "metadata": {
        "id": "LULfXywxYM3h"
      },
      "source": [
        "> Splitting the dataset"
      ]
    },
    {
      "cell_type": "code",
      "execution_count": null,
      "metadata": {
        "id": "TJstrtD-WeDm"
      },
      "outputs": [],
      "source": [
        "X_train,X_test,y_train,y_test=train_test_split(X, y, test_size=0.2, random_state=7)"
      ]
    },
    {
      "cell_type": "markdown",
      "metadata": {
        "id": "3wESkarCYMRx"
      },
      "source": [
        "> Fitting an XGBoost Classifier"
      ]
    },
    {
      "cell_type": "code",
      "execution_count": null,
      "metadata": {
        "colab": {
          "base_uri": "https://localhost:8080/"
        },
        "id": "G5ajUXtiYVI0",
        "outputId": "871a7c9e-7b79-4411-8a3c-5ad20174941e"
      },
      "outputs": [],
      "source": [
        "clf = XGBClassifier()\n",
        "clf.fit(X_train, y_train)"
      ]
    },
    {
      "cell_type": "code",
      "execution_count": null,
      "metadata": {
        "colab": {
          "base_uri": "https://localhost:8080/"
        },
        "id": "ob8ooWPfYsoB",
        "outputId": "3dc9a7f1-0354-4d3c-8f13-ebd18761c252"
      },
      "outputs": [],
      "source": [
        "y_test_pred = clf.predict(X_test)\n",
        "y_train_pred = clf.predict(X_train)\n",
        "\n",
        "print(f\"Accuracy at testing set {round(accuracy_score(y_test, y_test_pred), 2)}\")\n",
        "print(f\"Accuracy at tarining set {round(accuracy_score(y_train, y_train_pred), 2)}\")"
      ]
    }
  ],
  "metadata": {
    "colab": {
      "collapsed_sections": [],
      "name": "Parkinson Classification.ipynb",
      "provenance": []
    },
    "interpreter": {
      "hash": "3e2f0abb3d00f026a4a9480d53b795babdce6ba5cf0198e370ebd6e90f020837"
    },
    "kernelspec": {
      "display_name": "Python 3.8.5",
      "language": "python",
      "name": "python3"
    },
    "language_info": {
      "codemirror_mode": {
        "name": "ipython",
        "version": 3
      },
      "file_extension": ".py",
      "mimetype": "text/x-python",
      "name": "python",
      "nbconvert_exporter": "python",
      "pygments_lexer": "ipython3",
      "version": "3.8.5"
    }
  },
  "nbformat": 4,
  "nbformat_minor": 0
}
